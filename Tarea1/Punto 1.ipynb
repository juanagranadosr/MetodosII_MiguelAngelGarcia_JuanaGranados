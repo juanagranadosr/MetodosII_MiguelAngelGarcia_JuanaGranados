{
 "cells": [
  {
   "cell_type": "markdown",
   "id": "a2ee98f6",
   "metadata": {},
   "source": [
    "$1.$ Muestre que los siguientes operadores diferenciales:\n",
    "$$\n",
    "f'(x) = \\frac{-f(x+2h)+4f(x+h)-3f(x)}{2h}\n",
    "$$\n",
    "$$\n",
    "f''(x) = \\frac{f(x+h)-2f(x)+f(x-h)}{h^2}\n",
    "$$\n",
    "\n",
    "son consistentes. Use la función de prueba $ f(x) =x^2$ y $ f(x)=sinx $"
   ]
  },
  {
   "cell_type": "markdown",
   "id": "1e91b8ea",
   "metadata": {},
   "source": [
    "$Solución$\n",
    "\n",
    "Dado que $\n",
    "f'(x) = \\frac{-f(x+2h)+4f(x+h)-3f(x)}{2h}\n",
    "$, se puede escribir su segunda derivada en términos de $f(x)$ como:\n",
    "$$\n",
    "f''(x) = \\frac{-f'(x+2h)+4f'(x+h)-3f'(x)}{2h}\n",
    "$$\n",
    "\n",
    "$$\n",
    "f''(x) = \\frac{\\frac{-(-f(x+4h)+4f(x+3h)-3f(x+2h))+4(-f(x+3h)+4f(x+2h)-3f(x+h))-3(-f(x+2h)+4f(x+h)-3f(x))}{2h}}{2h}\n",
    "$$\n",
    "\n",
    "Agrupando términos, da como resultado:\n",
    "\n",
    "$$\n",
    "f''(x) = \\frac{f(x+4h)-8f(x+3h)+22f(x+2h)-24f(x+h)+9f(x)}{4h^2}\n",
    "$$\n",
    "\n",
    "Por lo tanto, si los dos operadores $f''(x)$ dan el mismo resultado para la misma función, siendo la función derivable, son consistentes. Es decir, para que sean consistentes se debe cumplir:\n",
    "\n",
    "$$\n",
    "\\lim_{h\\rightarrow 0}{\\frac{f(x+4h)-8f(x+3h)+22f(x+2h)-24f(x+h)+9f(x)}{4h^2}}=\\lim_{h\\rightarrow 0}{\\frac{f(x+h)-2f(x)+f(x-h)}{h^2}}\n",
    "$$\n"
   ]
  },
  {
   "cell_type": "markdown",
   "id": "f267fa67",
   "metadata": {},
   "source": [
    "# Funciones de prueba "
   ]
  },
  {
   "cell_type": "markdown",
   "id": "a585585f",
   "metadata": {},
   "source": [
    "$$1. f(x)=x^2$$\n",
    "La parte izquierda de la ecuación queda de la siguiente manera:\n",
    "$$\n",
    "f''(x)=(x^2)''=\\small \\lim_{h\\rightarrow 0}\\frac{x^2+8xh+16h^2 - 8x^2-48xh-72h^2 + 22x^2+88xh+88h^2 - 24x^2-48xh-24h^2 + 9x^2}{4h^2}\n",
    "$$\n",
    "Agrupando términos, da lo siguiente:\n",
    "$$\n",
    "\\lim_{h\\rightarrow 0}\\frac{0x^2+0xh+8h^2}{4h^2}=\\lim_{h\\rightarrow 0}2\n",
    "$$\n",
    "Por lo tanto:\n",
    "$$\n",
    "(x^2)''=2\n",
    "$$\n",
    "\n",
    "Para la parte derecha de la ecuación\n",
    "$$\n",
    "f''(x)=(x^2)''=\\lim_{h\\rightarrow 0}\\frac{x^2+2xh+h^2 - 2x^2 + x^2-2xh+h^2}{h^2}\n",
    "$$\n",
    "\n",
    "Agrupando términos, se obtiene:\n",
    "$$\n",
    "\\lim_{h\\rightarrow 0}\\frac{0x^2+0xh+2h^2}{h^2}=\\lim_{h\\rightarrow 0}2\n",
    "$$\n",
    "\n",
    "Por lo tanto:\n",
    "$$\n",
    "(x^2)''=2\n",
    "$$\n",
    "\n",
    "Esto quiere decir que los operadores diferenciales son consistentes, ya que son funciones derivables y arrojan el mismo resultado."
   ]
  },
  {
   "cell_type": "markdown",
   "id": "d9411797",
   "metadata": {},
   "source": [
    "$$2. f(x)=sinx$$\n",
    "La parte izquierda de la ecuación queda de la siguiente manera:\n",
    "$$\n",
    "f''(x)=(sinx)''=\\small \\lim_{h\\rightarrow 0}\\frac{sin(x+4h)-8sin(x+3h)+22sin(x+2h)-24sin(x+h)+9sin(x)}{4h^2}\n",
    "$$\n",
    "Usando $sin(\\alpha \\pm \\beta)=sin(\\alpha)cos(\\beta)\\pm cos(\\alpha)sin(\\beta)$, se obtiene que:\n",
    "$$\n",
    "\\small \\lim_{h\\rightarrow 0}\\frac{sin(x)cos(4h)+sin(4h)cos(x)-8(sin(x)cos(3h)+sin(3h)cos(x))+22(sin(x)cos(2h)+sin(2h)cos(x))-24(sin(x)cos(h)+sin(h)cos(h))+9sin(x)}{4h^2}\n",
    "$$\n",
    "Factorizando $sin(x)$ y $cos(x)$:\n",
    "$$\n",
    "\\small \\lim_{h\\rightarrow 0}sinx\\frac{cos(4h)-8cos(3h)+22cos(2h)-24cos(h)+9}{4h^2}+\\lim_{h\\rightarrow 0}cosx\\frac{sin(4h)-8sin(3h)+22sin(2h)-24sin(h)}{4h^2}\n",
    "$$\n",
    "Evaluando los límite se obtiene:\n",
    "$$\n",
    "sinx(-1)+cos(x)0\n",
    "$$\n",
    "Por lo tanto:\n",
    "$$\n",
    "(sinx)''=-sinx\n",
    "$$\n",
    "Para la parte derecha de la ecuación\n",
    "$$\n",
    "f''(x)=(sinx)''=\\lim_{h\\rightarrow 0}\\frac{sin(x+h)-2sin(x)+sin(x-h)}{h^2}\n",
    "$$\n",
    "Usando $sin(\\alpha \\pm \\beta)=sin(\\alpha)cos(\\beta)\\pm cos(\\alpha)sin(\\beta)$, se obtiene que:\n",
    "$$\n",
    "\\lim_{h\\rightarrow 0}\\frac{sin(x)cos(h)+sin(h)cos(x)-2sin(x)+sin(x)cos(h)-sin(h)cos(x)}{h^2}\n",
    "$$\n",
    "Factorizando $sin(x)$ y $cos(x)$:\n",
    "$$\n",
    "\\small \\lim_{h\\rightarrow 0}sinx\\frac{cos(h)-2+cos(h)}{h^2}+\\lim_{h\\rightarrow 0}cosx\\frac{sin(h)-sin(h)}{h^2}\n",
    "$$\n",
    "Evaluando los límite se obtiene:\n",
    "$$\n",
    "sinx(-1)+cos(x)0\n",
    "$$\n",
    "Por lo tanto:\n",
    "$$\n",
    "(sinx)''=-sinx\n",
    "$$\n",
    "Esto quiere decir que los operadores diferenciales son consistentes, ya que son funciones derivables y arrojan el mismo resultado."
   ]
  }
 ],
 "metadata": {
  "kernelspec": {
   "display_name": "Python 3 (ipykernel)",
   "language": "python",
   "name": "python3"
  },
  "language_info": {
   "codemirror_mode": {
    "name": "ipython",
    "version": 3
   },
   "file_extension": ".py",
   "mimetype": "text/x-python",
   "name": "python",
   "nbconvert_exporter": "python",
   "pygments_lexer": "ipython3",
   "version": "3.11.5"
  }
 },
 "nbformat": 4,
 "nbformat_minor": 5
}
