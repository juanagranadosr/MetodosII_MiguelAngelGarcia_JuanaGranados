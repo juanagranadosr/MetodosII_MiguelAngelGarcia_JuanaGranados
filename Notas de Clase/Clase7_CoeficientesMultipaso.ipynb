{
 "cells": [
  {
   "cell_type": "code",
   "execution_count": 3,
   "id": "9f11b9bb",
   "metadata": {},
   "outputs": [],
   "source": [
    "import numpy as np\n",
    "import sympy as sym"
   ]
  },
  {
   "cell_type": "code",
   "execution_count": 8,
   "id": "8933afdb",
   "metadata": {},
   "outputs": [],
   "source": [
    "t = sym.Symbol('t', Real = True)\n",
    "h = sym.Symbol('h', Real = True)"
   ]
  },
  {
   "cell_type": "code",
   "execution_count": 23,
   "id": "301c87e7",
   "metadata": {},
   "outputs": [],
   "source": [
    "F1 = (t-(-h))/h\n",
    "F2 = -(t-0)/h\n",
    "F3 = -(t-h)/h\n",
    "F4 = t*(t+h)/(2*h**2)\n",
    "F5 = t*(t-h)/(2*h**2)"
   ]
  },
  {
   "cell_type": "code",
   "execution_count": 24,
   "id": "421f76dc",
   "metadata": {},
   "outputs": [
    {
     "data": {
      "text/latex": [
       "$\\displaystyle \\frac{3 h}{2}$"
      ],
      "text/plain": [
       "3*h/2"
      ]
     },
     "execution_count": 24,
     "metadata": {},
     "output_type": "execute_result"
    }
   ],
   "source": [
    "I1 = sym.integrate(F1, (t,0,h))\n",
    "I1"
   ]
  },
  {
   "cell_type": "code",
   "execution_count": 25,
   "id": "27b52109",
   "metadata": {},
   "outputs": [
    {
     "data": {
      "text/latex": [
       "$\\displaystyle - \\frac{h}{2}$"
      ],
      "text/plain": [
       "-h/2"
      ]
     },
     "execution_count": 25,
     "metadata": {},
     "output_type": "execute_result"
    }
   ],
   "source": [
    "I2 = sym.integrate(F2, (t,0,h))\n",
    "I2"
   ]
  },
  {
   "cell_type": "code",
   "execution_count": 26,
   "id": "8684fcf2",
   "metadata": {},
   "outputs": [
    {
     "data": {
      "text/latex": [
       "$\\displaystyle \\frac{h}{2}$"
      ],
      "text/plain": [
       "h/2"
      ]
     },
     "execution_count": 26,
     "metadata": {},
     "output_type": "execute_result"
    }
   ],
   "source": [
    "I3 = sym.integrate(F3, (t,0,h))\n",
    "I3"
   ]
  },
  {
   "cell_type": "code",
   "execution_count": 27,
   "id": "7b7576b0",
   "metadata": {},
   "outputs": [
    {
     "data": {
      "text/latex": [
       "$\\displaystyle \\frac{5 h}{12}$"
      ],
      "text/plain": [
       "5*h/12"
      ]
     },
     "execution_count": 27,
     "metadata": {},
     "output_type": "execute_result"
    }
   ],
   "source": [
    "I4 = sym.integrate(F4, (t,0,h))\n",
    "I4"
   ]
  },
  {
   "cell_type": "code",
   "execution_count": 29,
   "id": "afc3c66d",
   "metadata": {},
   "outputs": [
    {
     "data": {
      "text/latex": [
       "$\\displaystyle - \\frac{h}{12}$"
      ],
      "text/plain": [
       "-h/12"
      ]
     },
     "execution_count": 29,
     "metadata": {},
     "output_type": "execute_result"
    }
   ],
   "source": [
    "I5 = sym.integrate(F5, (t,0,h))\n",
    "I5"
   ]
  }
 ],
 "metadata": {
  "kernelspec": {
   "display_name": "Python 3 (ipykernel)",
   "language": "python",
   "name": "python3"
  },
  "language_info": {
   "codemirror_mode": {
    "name": "ipython",
    "version": 3
   },
   "file_extension": ".py",
   "mimetype": "text/x-python",
   "name": "python",
   "nbconvert_exporter": "python",
   "pygments_lexer": "ipython3",
   "version": "3.10.9"
  }
 },
 "nbformat": 4,
 "nbformat_minor": 5
}
