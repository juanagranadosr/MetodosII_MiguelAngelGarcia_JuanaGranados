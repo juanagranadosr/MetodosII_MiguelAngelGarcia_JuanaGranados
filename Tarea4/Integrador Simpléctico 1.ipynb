{
 "cells": [
  {
   "cell_type": "markdown",
   "id": "aad6ad4b",
   "metadata": {},
   "source": [
    "Muestre que el método de Verlet es simpléctico, es decir, el\n",
    "Jacobiano inducido en el método es igual a uno\n",
    "\n",
    "$$\n",
    "J = \\frac{\\partial x_{n+1}}{\\partial x_{n}}\\frac{\\partial v_{n+1}}{\\partial v_{n}}-\\frac{\\partial x_{n+1}}{\\partial v_{n}}\\frac{\\partial v_{n+1}}{\\partial x_{n}}=1\n",
    "$$\n",
    "\n",
    "Tomando la ecuaciones de Verlet demostradas en la tarea 2:\n",
    "\n",
    "$$x(t + \\Delta t) = x(t) + v(t)\\Delta t + \\frac{1}{2} a(t) (\\Delta t)^2 $$\n",
    "\n",
    "$$v(t + \\Delta t) = v(t) +\\frac{\\Delta t}{2}(a(t+\\Delta t) +a(t))$$\n",
    "\n",
    "Tomando las derivadas de $x_{n+1}$ y $v_{n+1}$ con respecto a $x_{n}$:\n",
    "$$\n",
    "\\frac{\\partial x_{n+1}}{\\partial x_{n}} = 1\n",
    "$$\n",
    "\n",
    "$$\n",
    "\\frac{\\partial v_{n+1}}{\\partial x_{n}} = 0\n",
    "$$\n",
    "\n",
    "Tomando las derivadas de $x_{n+1}$ y $v_{n+1}$ con respecto a $v_{n}$:\n",
    "\n",
    "$$\n",
    "\\frac{\\partial x_{n+1}}{\\partial v_{n}} = \\Delta t \n",
    "$$\n",
    "\n",
    "$$\n",
    "\\frac{\\partial v_{n+1}}{\\partial v_{n}} = 1\n",
    "$$\n",
    "\n",
    "\n",
    "$$J = \\frac{\\partial x_{n+1}}{\\partial x_{n}}\\frac{\\partial v_{n+1}}{\\partial v_{n}}-\\frac{\\partial x_{n+1}}{\\partial v_{n}}\\frac{\\partial v_{n+1}}{\\partial x_{n}}=1*1-h*0=1$$"
   ]
  }
 ],
 "metadata": {
  "kernelspec": {
   "display_name": "Python 3 (ipykernel)",
   "language": "python",
   "name": "python3"
  },
  "language_info": {
   "codemirror_mode": {
    "name": "ipython",
    "version": 3
   },
   "file_extension": ".py",
   "mimetype": "text/x-python",
   "name": "python",
   "nbconvert_exporter": "python",
   "pygments_lexer": "ipython3",
   "version": "3.11.5"
  }
 },
 "nbformat": 4,
 "nbformat_minor": 5
}
