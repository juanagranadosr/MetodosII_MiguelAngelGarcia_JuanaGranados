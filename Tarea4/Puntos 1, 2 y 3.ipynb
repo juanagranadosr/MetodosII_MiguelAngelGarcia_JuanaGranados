{
 "cells": [
  {
   "cell_type": "markdown",
   "id": "3bcecba7",
   "metadata": {},
   "source": [
    "# Punto 1. "
   ]
  },
  {
   "cell_type": "markdown",
   "id": "059e5102",
   "metadata": {},
   "source": [
    "Expandiendo en Taylor,\n",
    "\n",
    "$$ x_{n+1} = x_n + v_nh + \\frac{h^2}{2} a_n + \\frac{h^3}{6} s_n$$\n",
    "\n",
    "Para la aceleración, teniendo en cuenta la tarea 2 y la expresión mostrada en el artículo\n",
    "\n",
    "$$ a_{n+1} = a_n + h S_n $$\n",
    "$$ a_{n+1} = a_n + h \\left(\\frac{a_{n+1}-a_{n-1} }{2h} \\right)$$\n",
    "$$ a_{n+1} = 2a_n - a_{n-1}$$\n",
    "\n",
    "\n",
    "$$x_{n+1} = x_n + v_n h + \\frac{h^2}{2}a_n + \\frac{h^3}{6}\\frac{a_{n+1}-a_{n-1}}{2h}$$\n",
    "$$x_{n+1}= x_n + v_n h + \\frac{h^2}{2}a_n + \\frac{h^3}{6}\\frac{2a_n-a_{n-1}-a_{n-1}}{2h}$$\n",
    "$$x_{n+1}= x_n + v_n h + \\frac{h^2}{2}a_n + \\frac{h^2}{6}a_n - \\frac{h^2}{6}a_n$$\n",
    "$$x_{n+1}= x_n + v_n h + \\frac{4 h^2}{6}a_n - \\frac{h^2}{6}a_{n-1}$$\n",
    "\n",
    "De la ecuación del paper\n",
    "$$a_{n-1} = 2a_n + a_{n+1}$$\n",
    "\n",
    "$$x_{n+1} = x_n + v_n h + \\frac{h^2}{2}a_n + \\frac{h^3}{6}\\left( \\frac{a_{n+1}-(2a_n - a_{n+1})}{2h}\\right)$$\n",
    "$$x_{n+1} = x_n + v_n h + \\frac{h^2}{2}a_n + \\frac{h^2}{6}(a_{n+1} - a_n)$$\n",
    "$$x_{n+1} = x_n + v_n h + \\frac{h^2}{6}a_{n+1} + \\frac{h^2}{3}a_n$$\n",
    "\n",
    "Igualando a la primera ecuación:\n",
    "\n",
    "$$x_{n+1} = 2r_n - r_{n-1} + h^2a_n$$\n",
    "\n",
    "$$2x_n - x_{n-1} + h^2 a_n = x_n + v_n + \\frac{4}{6}h^2a_n - \\frac{h^2 a_{n-1}}{6}$$\n",
    "$$ x_n - x_{n-1} + \\frac{1}{3} a_n h^2 + \\frac{1}{6} a_{n-1} h^2= v_n h$$\n",
    "$$ x_n - x_{n-1} + \\frac{1}{6} (2a_n h^2 + a_{n-1} h^2) = v_n h$$\n",
    "\n",
    "Mostramdo así\n",
    "\n",
    "$$x_{n+1} = x_n + hv_n + \\frac{h^2}{6}(4a_n - a_{n-1})$$\n",
    "$$x_{n+1} = x_n + hv_n + \\frac{h^2}{6}(a_{n+1} + 2a_{n})$$\n",
    "$$h v_{n+1} = x_{n+1} - x_n + \\frac{h^2}{6}(2a_{n+1} + a_{n})$$"
   ]
  },
  {
   "cell_type": "markdown",
   "id": "c67b582f",
   "metadata": {},
   "source": [
    "# Punto 2. Integrador de Adams-Bashforth. "
   ]
  },
  {
   "cell_type": "markdown",
   "id": "2fc1eb93",
   "metadata": {},
   "source": [
    "Para realizar la siguiente demostración se hará uso del método de interpolación de Lagrange para obtener el polinomio interpolador para los puntos dados.\n",
    "\n",
    "#### Integrador de Adams-Bashforth de tres puntos:\n",
    "\n",
    "El polinomio interpolador de Lagrange para los puntos $(t_{n-2}, f_{n-2})$, $(t_{n-1}, f_{n-1})$, y $(t_n, f_n)$ es:\n",
    "\n",
    "$$P_2(t) = \\frac{(t - t_{n-1})(t - t_n)}{(t_{n-2} - t_{n-1})(t_{n-2} - t_n)}f_{n-2} + \\frac{(t - t_{n-2})(t - t_n)}{(t_{n-1} - t_{n-2})(t_{n-1} - t_n)}f_{n-1} + \\frac{(t - t_{n-2})(t - t_{n-1})}{(t_n - t_{n-2})(t_n - t_{n-1})}f_n$$\n",
    "\n",
    "Integrando el polinomio interpolador de $t_n$ a $t_{n+1}$:\n",
    "\n",
    "$$\\int_{t_n}^{t_{n+1}} P_2(t) dt = \\int_{t_n}^{t_{n+1}} \\left(\\frac{(t - t_{n-1})(t - t_n)}{(t_{n-2} - t_{n-1})(t_{n-2} - t_n)}f_{n-2} + \\frac{(t - t_{n-2})(t - t_n)}{(t_{n-1} - t_{n-2})(t_{n-1} - t_n)}f_{n-1} + \\frac{(t - t_{n-2})(t - t_{n-1})}{(t_n - t_{n-2})(t_n - t_{n-1})}f_n \\right) dt$$\n",
    "\n",
    "Llegando a la fórmula de iteración para el Integrador de Adams-Bashforth de tres puntos:\n",
    "\n",
    "$$y_{n+1} = y_n + \\frac{h}{12}\\left(23f_n - 16f_{n-1} + 5f_{n-2}\\right)$$\n",
    "\n",
    "#### Integrador de Adams-Bashforth de cuatro puntos:\n",
    "\n",
    "Asimismo, el polinomio interpolador para los puntos $(t_{n-3}, f_{n-3})$, $(t_{n-2}, f_{n-2})$, $(t_{n-1}, f_{n-1})$, y $(t_n, f_n)$, se puede escribir como:\n",
    "\n",
    "$$P_3(t) = \\frac{(t - t_{n-2})(t - t_{n-1})(t - t_n)}{(t_{n-3} - t_{n-2})(t_{n-3} - t_{n-1})(t_{n-3} - t_n)}f_{n-3} + \\frac{(t - t_{n-3})(t - t_{n-1})(t - t_n)}{(t_{n-2} - t_{n-3})(t_{n-2} - t_{n-1})(t_{n-2} - t_n)}f_{n-2} + \\frac{(t - t_{n-3})(t - t_{n-2})(t - t_n)}{(t_{n-1} - t_{n-3})(t_{n-1} - t_{n-2})(t_{n-1} - t_n)}f_{n-1} + \\frac{(t - t_{n-3})(t - t_{n-2})(t - t_{n-1})}{(t_n - t_{n-3})(t_n - t_{n-2})(t_n - t_{n-1})}f_n$$\n",
    "\n",
    "Integrando $t_n$ hasta $t_{n+1}$:\n",
    "\n",
    "$$\\int_{t_n}^{t_{n+1}} P_3(t) dt = \\int_{t_n}^{t_{n+1}}\\frac{(t - t_{n-2})(t - t_{n-1})(t - t_n)}{(t_{n-3} - t_{n-2})(t_{n-3} - t_{n-1})(t_{n-3} - t_n)}f_{n-3} + \\frac{(t - t_{n-3})(t - t_{n-1})(t - t_n)}{(t_{n-2} - t_{n-3})(t_{n-2} - t_{n-1})(t_{n-2} - t_n)}f_{n-2} + \\frac{(t - t_{n-3})(t - t_{n-2})(t - t_n)}{(t_{n-1} - t_{n-3})(t_{n-1} - t_{n-2})(t_{n-1} - t_n)}f_{n-1} + \\frac{(t - t_{n-3})(t - t_{n-2})(t - t_{n-1})}{(t_n - t_{n-3})(t_n - t_{n-2})(t_n - t_{n-1})}f_n dt$$\n",
    "$$y_{n+1} = y_n + \\frac{h}{24}\\left(55f_n - 59f_{n-1} + 37f_{n-2} - 9f_{n-3}\\right)$$"
   ]
  },
  {
   "cell_type": "markdown",
   "id": "93a6a2ae",
   "metadata": {},
   "source": [
    "# Punto 4. Integrador de Adams-Moulton."
   ]
  },
  {
   "cell_type": "markdown",
   "id": "62610da8",
   "metadata": {},
   "source": [
    "#### Integrador de Adams-Moulton de tres puntos:\n",
    "\n",
    "Dado el polinomio interpolador de Lagrange para los puntos $(t_{n-1}, f_{n-1})$, $(t_n, f_n)$, y $(t_{n+1}, f_{n+1})$, lo expresamos como:\n",
    "\n",
    "$$P_2(t) = \\frac{(t - t_{n})(t - t_{n+1})}{(t_{n-1} - t_{n})(t_{n-1} - t_{n+1})}f_{n-1} + \\frac{(t - t_{n-1})(t - t_{n+1})}{(t_{n} - t_{n-1})(t_{n} - t_{n+1})}f_{n} + \\frac{(t - t_{n-1})(t - t_{n})}{(t_{n+1} - t_{n-1})(t_{n+1} - t_{n})}f_{n+1}$$\n",
    "\n",
    "Ahora, integramos este polinomio interpolador desde $t_n$ hasta $t_{n+1}$:\n",
    "\n",
    "$$\\int_{t_n}^{t_{n+1}} P_2(t) dt = \\int_{t_n}^{t_{n+1}} \\left(\\frac{(t - t_{n})(t - t_{n+1})}{(t_{n-1} - t_{n})(t_{n-1} - t_{n+1})}f_{n-1} + \\frac{(t - t_{n-1})(t - t_{n+1})}{(t_{n} - t_{n-1})(t_{n} - t_{n+1})}f_{n} + \\frac{(t - t_{n-1})(t - t_{n})}{(t_{n+1} - t_{n-1})(t_{n+1} - t_{n})}f_{n+1} \\right) dt$$\n",
    "\n",
    "Después de la integración, llegamos a la fórmula de iteración para el Integrador de Adams-Moulton de tres puntos:\n",
    "\n",
    "$$y_{n+1} = y_n + \\frac{h}{12}\\left(5f_{n+1} + 8f_{n} - f_{n-1}\\right)$$\n",
    "\n",
    "#### Integrador de Adams-Moulton de cuatro puntos:\n",
    "\n",
    "Dado el polinomio interpolador de Lagrange para los puntos $(t_{n-2}, f_{n-2})$, $(t_{n-1}, f_{n-1})$, $(t_n, f_n)$, y $(t_{n+1}, f_{n+1})$, lo expresamos como:\n",
    "\n",
    "$$P_3(t) = \\frac{(t - t_{n-1})(t - t_{n})(t - t_{n+1})}{(t_{n-2} - t_{n-1})(t_{n-2} - t_{n})(t_{n-2} - t_{n+1})}f_{n-2} + \\frac{(t - t_{n-2})(t - t_{n})(t - t_{n+1})}{(t_{n-1} - t_{n-2})(t_{n-1} - t_{n})(t_{n-1} - t_{n+1})}f_{n-1} + \\frac{(t - t_{n-2})(t - t_{n-1})(t - t_{n+1})}{(t_{n} - t_{n-2})(t_{n} - t_{n-1})(t_{n} - t_{n+1})}f_{n} + \\frac{(t - t_{n-2})(t - t_{n-1})(t - t_{n})}{(t_{n+1} - t_{n-2})(t_{n+1} - t_{n-1})(t_{n+1} - t_{n})}f_{n+1}$$\n",
    "\n",
    "Ahora, integramos este polinomio interpolador desde $t_n$ hasta $t_{n+1}$:\n",
    "\n",
    "$$\\int_{t_n}^{t_{n+1}} P_3(t) dt = \\int_{t_n}^{t_{n+1}} \\frac{(t - t_{n-1})(t - t_{n})(t - t_{n+1})}{(t_{n-2} - t_{n-1})(t_{n-2} - t_{n})(t_{n-2} - t_{n+1})}f_{n-2} + \\frac{(t - t_{n-2})(t - t_{n})(t - t_{n+1})}{(t_{n-1} - t_{n-2})(t_{n-1} - t_{n})(t_{n-1} - t_{n+1})}f_{n-1} + \\frac{(t - t_{n-2})(t - t_{n-1})(t - t_{n+1})}{(t_{n} - t_{n-2})(t_{n} - t_{n-1})(t_{n} - t_{n+1})}f_{n} + \\frac{(t - t_{n-2})(t - t_{n-1})(t - t_{n})}{(t_{n+1} - t_{n-2})(t_{n+1} - t_{n-1})(t_{n+1} - t_{n})}f_{n+1} dt$$\n",
    "\n",
    "Después de la integración, llegamos a la fórmula de iteración para el Integrador de Adams-Moulton de cuatro puntos:\n",
    "\n",
    "$$y_{n+1} = y_n + \\frac{h}{24}\\left(9f_{n+1} + 19f_n - 5f_{n-1} + f_{n-2}\\right)$$\n",
    "\n",
    "Estas son las fórmulas de iteración para los Integradores de Adams-Moulton de tres y cuatro puntos, respectivamente."
   ]
  },
  {
   "cell_type": "markdown",
   "id": "88d587d2",
   "metadata": {},
   "source": []
  }
 ],
 "metadata": {
  "kernelspec": {
   "display_name": "Python 3 (ipykernel)",
   "language": "python",
   "name": "python3"
  },
  "language_info": {
   "codemirror_mode": {
    "name": "ipython",
    "version": 3
   },
   "file_extension": ".py",
   "mimetype": "text/x-python",
   "name": "python",
   "nbconvert_exporter": "python",
   "pygments_lexer": "ipython3",
   "version": "3.10.9"
  }
 },
 "nbformat": 4,
 "nbformat_minor": 5
}
