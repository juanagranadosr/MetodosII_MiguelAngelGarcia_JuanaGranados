{
 "cells": [
  {
   "cell_type": "code",
   "execution_count": 1,
   "id": "5680be00",
   "metadata": {},
   "outputs": [],
   "source": [
    "import numpy as np\n",
    "import matplotlib.pyplot as plt\n",
    "from scipy import integrate"
   ]
  },
  {
   "cell_type": "code",
   "execution_count": 2,
   "id": "22357b7c",
   "metadata": {},
   "outputs": [],
   "source": [
    "def System(r, t, L = 1):\n",
    "    \n",
    "    \"\"\"\n",
    "    Sistema de ecuaciones angulares.\n",
    "\n",
    "    Parámetros:\n",
    "    - r: tupla con el valor del angulo inicial en radianes y velocidad angular inicial.\n",
    "    - t: pasos de tiempo.\n",
    "    - L: Longitud de la varilla (predeterminado como 1 metro)\n",
    "\n",
    "    Retorna:\n",
    "    - Lista con dos calores actualizados de \n",
    "    \"\"\"\n",
    "    \n",
    "    g = 9.81\n",
    "    \n",
    "    theta0, theta0_dt = r\n",
    "    \n",
    "    theta_dt = theta0_dt\n",
    "    theta_2dt = ( (2/L)*g - np.cos(theta0)*theta_dt**2 )*np.sin(theta0)/((np.sin(theta0))**2 + 1/3)\n",
    "    \n",
    "    return [theta_dt, theta_2dt]"
   ]
  },
  {
   "cell_type": "code",
   "execution_count": 4,
   "id": "2ea31b3b",
   "metadata": {},
   "outputs": [],
   "source": [
    "def Integrator2(f, r0, t):\n",
    "    \n",
    "    h = t[1] - t[0]\n",
    "    #print(h)\n",
    "    \n",
    "    x = np.zeros_like(t)\n",
    "    vx = np.zeros_like(t)\n",
    "    \n",
    "    x[0] = r0[0]\n",
    "    vx[0] = r0[1]\n",
    "    \n",
    "    K1 = np.zeros(2)\n",
    "    K2 = np.zeros(2)\n",
    "    \n",
    "    # Las pendientes instantaneas\n",
    "    R = np.zeros(2)\n",
    "\n",
    "    for i in range(1,len(t)):\n",
    "        \n",
    "        \n",
    "        R = np.array([x[i-1], vx[i-1]])\n",
    "        \n",
    "        # print('valor instantaneo', R)\n",
    "        \n",
    "        K1 = f(R, t[i-1])\n",
    "        \n",
    "        R = np.array([x[i-1]+h*K1[0], vx[i-1]+h*K1[1]])\n",
    "        \n",
    "        K2 = f(R,t[i-1]+h)\n",
    "        \n",
    "        x[i] = x[i-1] + 0.5*h*(K1[0]+K2[0])\n",
    "        \n",
    "        vx[i] = vx[i-1] + 0.5*h*(K1[1]+K2[1])\n",
    "        \n",
    "        # print('x', x[i], 'vx', vx[i])\n",
    "        \n",
    "    return x,vx"
   ]
  },
  {
   "cell_type": "code",
   "execution_count": 52,
   "id": "46991ab4",
   "metadata": {},
   "outputs": [],
   "source": [
    "t = np.linspace(0,0.5,50)\n",
    "h = 0.1\n",
    "r0 = (10*np.pi/180, 0)"
   ]
  },
  {
   "cell_type": "code",
   "execution_count": 53,
   "id": "46c2c341",
   "metadata": {
    "scrolled": true
   },
   "outputs": [],
   "source": [
    "x, vx = Integrator2(System,r0,t)"
   ]
  },
  {
   "cell_type": "code",
   "execution_count": 54,
   "id": "2203737c",
   "metadata": {},
   "outputs": [
    {
     "data": {
      "text/plain": [
       "<matplotlib.collections.PathCollection at 0x11ed77d60>"
      ]
     },
     "execution_count": 54,
     "metadata": {},
     "output_type": "execute_result"
    },
    {
     "data": {
      "image/png": "[encoded data removed]",
      "text/plain": [
       "<Figure size 640x480 with 1 Axes>"
      ]
     },
     "metadata": {},
     "output_type": "display_data"
    }
   ],
   "source": [
    "plt.scatter(np.sin(x)/2, np.cos(x)/2)"
   ]
  },
  {
   "cell_type": "code",
   "execution_count": 8,
   "id": "6119d0d7",
   "metadata": {},
   "outputs": [
    {
     "ename": "NameError",
     "evalue": "name 'r' is not defined",
     "output_type": "error",
     "traceback": [
      "\u001b[0;31m---------------------------------------------------------------------------\u001b[0m",
      "\u001b[0;31mNameError\u001b[0m                                 Traceback (most recent call last)",
      "Cell \u001b[0;32mIn[8], line 2\u001b[0m\n\u001b[1;32m      1\u001b[0m \u001b[38;5;66;03m#plt.plot(x,y)\u001b[39;00m\n\u001b[0;32m----> 2\u001b[0m plt\u001b[38;5;241m.\u001b[39mplot(np\u001b[38;5;241m.\u001b[39msin(\u001b[43mr\u001b[49m[:,\u001b[38;5;241m0\u001b[39m])\u001b[38;5;241m/\u001b[39m\u001b[38;5;241m2\u001b[39m,np\u001b[38;5;241m.\u001b[39mcos(r[:,\u001b[38;5;241m1\u001b[39m])\u001b[38;5;241m/\u001b[39m\u001b[38;5;241m2\u001b[39m)\n",
      "\u001b[0;31mNameError\u001b[0m: name 'r' is not defined"
     ]
    }
   ],
   "source": [
    "#plt.plot(x,y)\n",
    "plt.plot(np.sin(r[:,0])/2,np.cos(r[:,1])/2)"
   ]
  }
 ],
 "metadata": {
  "kernelspec": {
   "display_name": "Python 3 (ipykernel)",
   "language": "python",
   "name": "python3"
  },
  "language_info": {
   "codemirror_mode": {
    "name": "ipython",
    "version": 3
   },
   "file_extension": ".py",
   "mimetype": "text/x-python",
   "name": "python",
   "nbconvert_exporter": "python",
   "pygments_lexer": "ipython3",
   "version": "3.10.9"
  }
 },
 "nbformat": 4,
 "nbformat_minor": 5
}
