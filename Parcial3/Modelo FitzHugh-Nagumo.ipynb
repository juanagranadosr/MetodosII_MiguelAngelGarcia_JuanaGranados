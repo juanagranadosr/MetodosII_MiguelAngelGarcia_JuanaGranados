{
 "cells": [
  {
   "cell_type": "code",
   "execution_count": 3,
   "id": "0c6bb2f0",
   "metadata": {},
   "outputs": [],
   "source": [
    "%matplotlib notebook\n",
    "import numpy as np\n",
    "import matplotlib.pyplot as plt\n",
    "from mpl_toolkits.mplot3d import axes3d\n",
    "import matplotlib as mpl\n",
    "import matplotlib.animation as animation\n",
    "from tqdm import tqdm"
   ]
  },
  {
   "cell_type": "code",
   "execution_count": 18,
   "id": "5e927405",
   "metadata": {},
   "outputs": [
    {
     "name": "stdout",
     "output_type": "stream",
     "text": [
      "0.4806806806806808\n"
     ]
    }
   ],
   "source": [
    "Nt = 1000\n",
    "Nx = 50\n",
    "\n",
    "x = np.linspace(0,1,Nx)\n",
    "t = np.linspace(0,10,Nt)\n",
    "\n",
    "deltax = x[1] - x[0]\n",
    "deltat = t[1] - t[0]\n",
    "\n",
    "k = 0.02\n",
    "\n",
    "lambda_ = (k*deltat)/deltax**2\n",
    "\n",
    "print(lambda_)"
   ]
  },
  {
   "cell_type": "code",
   "execution_count": 19,
   "id": "fa9bc45c",
   "metadata": {},
   "outputs": [],
   "source": [
    "D = 0.01"
   ]
  },
  {
   "cell_type": "code",
   "execution_count": null,
   "id": "5c582601",
   "metadata": {},
   "outputs": [],
   "source": []
  }
 ],
 "metadata": {
  "kernelspec": {
   "display_name": "Python 3 (ipykernel)",
   "language": "python",
   "name": "python3"
  },
  "language_info": {
   "codemirror_mode": {
    "name": "ipython",
    "version": 3
   },
   "file_extension": ".py",
   "mimetype": "text/x-python",
   "name": "python",
   "nbconvert_exporter": "python",
   "pygments_lexer": "ipython3",
   "version": "3.10.9"
  }
 },
 "nbformat": 4,
 "nbformat_minor": 5
}
