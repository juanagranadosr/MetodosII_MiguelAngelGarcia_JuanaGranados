{
 "cells": [
  {
   "cell_type": "markdown",
   "id": "a6b92930",
   "metadata": {},
   "source": [
    "Los puntos fijos $(q,p)$ tal que $\\dot{q}=\\dot{p}=0$ se pueden encontrar por aproximando por Taylor:\n",
    "Esta expresión se puede escribir de forma matricial de la siguiente forma:\n",
    "$$\\left[\\begin{array}{cccc}\n",
    " \\frac{\\partial}{\\partial q}f(q_0, p_0) &  \\frac{\\partial}{\\partial p}f(q_0, p_0) \t\\\\\n",
    "\\frac{\\partial}{\\partial q} g(q_0, p_0) & \\frac{\\partial}{\\partial p} g(q_0, p_0) \t\\\\\n",
    "\\end{array}\\right]$$"
   ]
  },
  {
   "cell_type": "code",
   "execution_count": null,
   "id": "b42153c6",
   "metadata": {},
   "outputs": [],
   "source": []
  }
 ],
 "metadata": {
  "kernelspec": {
   "display_name": "Python 3 (ipykernel)",
   "language": "python",
   "name": "python3"
  },
  "language_info": {
   "codemirror_mode": {
    "name": "ipython",
    "version": 3
   },
   "file_extension": ".py",
   "mimetype": "text/x-python",
   "name": "python",
   "nbconvert_exporter": "python",
   "pygments_lexer": "ipython3",
   "version": "3.10.9"
  }
 },
 "nbformat": 4,
 "nbformat_minor": 5
}
