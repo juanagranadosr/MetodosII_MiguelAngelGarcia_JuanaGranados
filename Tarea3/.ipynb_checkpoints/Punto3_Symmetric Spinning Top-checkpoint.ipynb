{
 "cells": [
  {
   "cell_type": "markdown",
   "id": "66340ac1",
   "metadata": {},
   "source": [
    "(a) Muestre con detalle que: $I_0 = \\frac{1}{4}mr^2 + md^2$\n",
    "\n",
    "Para demostrar el momento de inercia del trompo planteado en el problema se hará uso del teorema de ejes perpendiculares para encontrar el momento de inercia del disco alrededor de la dirección azimultal y, luego, ejes paralelos para encontrar el del trompo completo.\n",
    "\n",
    "Tenemos que el momento de inercia del disco en el eje z es $I_0=\\frac{1}{2}mr^2$ (se verifica en el inciso b). Por ejes el teorema de ejes perpendiculares el momento de inercia de un eje perpendicular al plano, en este caso el eje $z$, equivale a la suma de los momentos de inercia de los otros dos ejes paralelos al plano, es decir, $I_z = I_x + I_y$. Por la simetria del problema, la rotación sobre el eje $x$ debe ser igual a la del eje $y$, por lo que entonces el momento de inercia en dirección azimutal sería:\n",
    "$$I_x = I_y = \\frac{1}{4}mr^2$$\n",
    "de tal forma que se satisfaga la expresión ya discutida. Asimismo, para encontrar el momento de inercia del trompo completo, hagamos uso del teorema de ejes paralelos, el cual dice que el momento de inercia sería la suma del momento de inercia total sumando la distancia al centro de masa al cuadrado por la masa del objeto, es decir:\n",
    "$$I_0 = \\frac{1}{4}mr^2 + md^2.$$"
   ]
  },
  {
   "cell_type": "markdown",
   "id": "cfeed31c",
   "metadata": {},
   "source": [
    "(b) Calcule el momento de inercia del disco: $I_z =\\frac{1}{2}mr^2$.\n",
    "\n",
    "Tenemos que\n",
    "\n",
    "$$I_z = \\int r^2dm$$\n",
    "donde $dm=\\sigma dA = \\sigma r dr d\\theta$. Dada la simetria del problema $\\sigma = m/\\pi r^2$ y la integración va desde el centro del disco hasta el extremo ($0$ a $r$) y debe recorrer toda la circunferencia ($0$ a $2\\pi$). Entonces,\n",
    "$$\\sigma \\int_0^{2\\pi} \\int_0^r r^3 dr d\\theta = \\frac{\\sigma}{4} \\int_0^{2\\pi} r^4 d\\theta = \\frac{2\\pi\\sigma}{4} r^4 = \\frac{1}{2} m r^4 $$"
   ]
  },
  {
   "cell_type": "markdown",
   "id": "d52ad275",
   "metadata": {},
   "source": [
    "(c) Usando las ecuaciones de Euler-Lagrange muestre que las ecuaciones de movimiento.\n",
    "\n",
    "Teniendo en cuenta que el lagrangiano\n",
    "\n",
    "$$ L = \\frac{1}{2}I_0(\\dot{\\theta}^2 + \\dot{\\phi}^2 \\sin^2\\theta) + \\frac{1}{2}I_z(\\dot{\\phi}\\cos\\theta + \\dot{\\psi})^2 - mgd\\cos\\theta $$\n",
    "\n",
    "encontremos las ecuaciones de movimiento derivando respecto a $\\dot{\\phi}$ y $\\dot{\\psi}$\n",
    "\n",
    "$$\\frac{\\partial L}{\\partial\\dot{\\phi}} = I_0\\dot{\\phi}\\sin^2\\theta + \\frac{1}{2}I_z\\dot{\\phi}\\cos\\theta + I_z\\dot{\\psi}\\cos\\theta = p_{\\phi}$$\n",
    "\n",
    "$$\\frac{\\partial L}{\\partial\\dot{\\psi}} = I_z\\dot{\\phi}\\cos\\theta + I_z\\dot{\\psi}= p_{\\psi}$$\n",
    "\n",
    "Como\n",
    "$$\\frac{dL}{d\\theta}=\\frac{d}{dt}\\left(\\frac{dL}{d\\dot{\\theta}} \\right)$$\n",
    "\n",
    "$$\\frac{dL}{d\\theta} = I_0 \\dot{\\phi}^2\\sin\\theta \\cos\\theta\\ \\dot{\\theta}+ I_z(\\dot{\\phi}\\cos\\theta+\\dot{\\psi})(-\\dot{\\phi}\\sin\\theta\\ \\dot{\\theta}) + mgd\\sin{\\theta}\\\\\n",
    "=I_0\\dot{\\phi}^2\\sin\\theta\\ \\cos\\theta\\ \\dot{\\theta} - I_z\\dot{\\phi}^2\\sin\\theta\\cos\\theta\\dot{\\theta} - I_z\\dot{\\phi}\\sin\\theta\\dot{\\theta}+mgd\\sin{\\theta}\\\\\n",
    "= \\dot{\\phi}^2\\sin\\theta\\ \\cos\\theta\\ (I_0-I_z)- I_z\\dot{\\phi}\\dot{\\psi}\\sin\\theta+mgd\\sin{\\theta}$$\n",
    "Asimismo,\n",
    "$$\\frac{d}{dt}\\left(\\frac{dL}{d\\dot{\\theta}} \\right) = \\frac{d}{dt} I_0\\dot{\\theta} = I_0\\ddot{\\theta}$$\n",
    "$$ I_0\\ddot{\\theta}= \\dot{\\phi}^2\\sin\\theta\\ \\cos\\theta\\ (I_0-I_z)- I_z\\dot{\\phi}\\dot{\\psi}\\sin\\theta+mgd\\sin{\\theta}$$"
   ]
  },
  {
   "cell_type": "code",
   "execution_count": null,
   "id": "11558513",
   "metadata": {},
   "outputs": [],
   "source": []
  }
 ],
 "metadata": {
  "kernelspec": {
   "display_name": "Python 3 (ipykernel)",
   "language": "python",
   "name": "python3"
  },
  "language_info": {
   "codemirror_mode": {
    "name": "ipython",
    "version": 3
   },
   "file_extension": ".py",
   "mimetype": "text/x-python",
   "name": "python",
   "nbconvert_exporter": "python",
   "pygments_lexer": "ipython3",
   "version": "3.10.9"
  }
 },
 "nbformat": 4,
 "nbformat_minor": 5
}
