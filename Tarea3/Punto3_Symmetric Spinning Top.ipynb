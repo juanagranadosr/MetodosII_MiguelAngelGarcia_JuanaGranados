{
 "cells": [
  {
   "cell_type": "markdown",
   "id": "a22b9df9",
   "metadata": {},
   "source": [
    "(a) Muestre con detalle que: $I_0 = \\frac{1}{4}mr^2 + md^2$\n",
    "\n",
    "Para demostrar el momento de inercia del trompo planteado en el problema se hará uso del teorema de ejes perpendiculares para encontrar el momento de inercia del disco alrededor de la dirección azimultal y, luego, ejes paralelos para encontrar el del trompo completo.\n",
    "\n",
    "Tenemos que el momento de inercia del disco en el eje z es $I_0=\\frac{1}{2}mr^2$ (se verifica en el inciso b). Por ejes el teorema de ejes perpendiculares el momento de inercia de un eje perpendicular al plano, en este caso el eje $z$, equivale a la suma de los momentos de inercia de los otros dos ejes paralelos al plano, es decir, $I_z = I_x + I_y$. Por la simetria del problema, la rotación sobre el eje $x$ debe ser igual a la del eje $y$, por lo que entonces el momento de inercia en dirección azimutal sería:\n",
    "$$I_x = I_y = \\frac{1}{4}mr^2$$\n",
    "de tal forma que se satisfaga la expresión ya discutida. Asimismo, para encontrar el momento de inercia del trompo completo, hagamos uso del teorema de ejes paralelos, el cual dice que el momento de inercia sería la suma del momento de inercia total sumando la distancia al centro de masa al cuadrado por la masa del objeto, es decir:\n",
    "$$I_0 = \\frac{1}{4}mr^2 + md^2.$$"
   ]
  },
  {
   "cell_type": "markdown",
   "id": "6099a59d",
   "metadata": {},
   "source": [
    "(b) Calcule el momento de inercia del disco: $I_z =\\frac{1}{2}mr^2$.\n",
    "\n",
    "Tenemos que\n",
    "\n",
    "$$I_z = \\int r^2dm$$\n",
    "donde $dm=\\sigma dA = \\sigma r dr d\\theta$. Dada la simetria del problema $\\sigma = m/\\pi r^2$ y la integración va desde el centro del disco hasta el extremo ($0$ a $r$) y debe recorrer toda la circunferencia ($0$ a $2\\pi$). Entonces,\n",
    "$$\\sigma \\int_0^{2\\pi} \\int_0^r r^3 dr d\\theta = \\frac{\\sigma}{4} \\int_0^{2\\pi} r^4 d\\theta = \\frac{2\\pi\\sigma}{4} r^4 = \\frac{1}{2} m r^4 $$"
   ]
  },
  {
   "cell_type": "code",
   "execution_count": null,
   "id": "33ae1075",
   "metadata": {},
   "outputs": [],
   "source": []
  }
 ],
 "metadata": {
  "kernelspec": {
   "display_name": "Python 3 (ipykernel)",
   "language": "python",
   "name": "python3"
  },
  "language_info": {
   "codemirror_mode": {
    "name": "ipython",
    "version": 3
   },
   "file_extension": ".py",
   "mimetype": "text/x-python",
   "name": "python",
   "nbconvert_exporter": "python",
   "pygments_lexer": "ipython3",
   "version": "3.10.9"
  }
 },
 "nbformat": 4,
 "nbformat_minor": 5
}
